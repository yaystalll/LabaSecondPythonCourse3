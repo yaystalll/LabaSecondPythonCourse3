{
 "cells": [
  {
   "cell_type": "code",
   "execution_count": 1,
   "id": "ac000224",
   "metadata": {},
   "outputs": [
    {
     "data": {
      "text/plain": [
       "1"
      ]
     },
     "execution_count": 1,
     "metadata": {},
     "output_type": "execute_result"
    }
   ],
   "source": [
    "N = (26 + 4) % 5 + 1\n",
    "N"
   ]
  },
  {
   "cell_type": "code",
   "execution_count": null,
   "id": "11805fcf",
   "metadata": {},
   "outputs": [],
   "source": [
    "1, 2, 3, 5, 10, 11, 12, 13, 14, 15, 16, 17, 18, 21, 22, 23, 24, 26"
   ]
  },
  {
   "cell_type": "code",
   "execution_count": 2,
   "id": "847acbe3",
   "metadata": {},
   "outputs": [],
   "source": [
    "import pandas as pd\n",
    "names_data = pd.read_csv(\"NationalNames.csv\")"
   ]
  },
  {
   "cell_type": "code",
   "execution_count": 3,
   "id": "fd413f67",
   "metadata": {},
   "outputs": [
    {
     "data": {
      "text/html": [
       "<div>\n",
       "<style scoped>\n",
       "    .dataframe tbody tr th:only-of-type {\n",
       "        vertical-align: middle;\n",
       "    }\n",
       "\n",
       "    .dataframe tbody tr th {\n",
       "        vertical-align: top;\n",
       "    }\n",
       "\n",
       "    .dataframe thead th {\n",
       "        text-align: right;\n",
       "    }\n",
       "</style>\n",
       "<table border=\"1\" class=\"dataframe\">\n",
       "  <thead>\n",
       "    <tr style=\"text-align: right;\">\n",
       "      <th></th>\n",
       "      <th>Id</th>\n",
       "      <th>Name</th>\n",
       "      <th>Year</th>\n",
       "      <th>Gender</th>\n",
       "      <th>Count</th>\n",
       "    </tr>\n",
       "  </thead>\n",
       "  <tbody>\n",
       "    <tr>\n",
       "      <th>0</th>\n",
       "      <td>1</td>\n",
       "      <td>Mary</td>\n",
       "      <td>1880</td>\n",
       "      <td>F</td>\n",
       "      <td>7065</td>\n",
       "    </tr>\n",
       "    <tr>\n",
       "      <th>1</th>\n",
       "      <td>2</td>\n",
       "      <td>Anna</td>\n",
       "      <td>1880</td>\n",
       "      <td>F</td>\n",
       "      <td>2604</td>\n",
       "    </tr>\n",
       "    <tr>\n",
       "      <th>2</th>\n",
       "      <td>3</td>\n",
       "      <td>Emma</td>\n",
       "      <td>1880</td>\n",
       "      <td>F</td>\n",
       "      <td>2003</td>\n",
       "    </tr>\n",
       "    <tr>\n",
       "      <th>3</th>\n",
       "      <td>4</td>\n",
       "      <td>Elizabeth</td>\n",
       "      <td>1880</td>\n",
       "      <td>F</td>\n",
       "      <td>1939</td>\n",
       "    </tr>\n",
       "    <tr>\n",
       "      <th>4</th>\n",
       "      <td>5</td>\n",
       "      <td>Minnie</td>\n",
       "      <td>1880</td>\n",
       "      <td>F</td>\n",
       "      <td>1746</td>\n",
       "    </tr>\n",
       "    <tr>\n",
       "      <th>5</th>\n",
       "      <td>6</td>\n",
       "      <td>Margaret</td>\n",
       "      <td>1880</td>\n",
       "      <td>F</td>\n",
       "      <td>1578</td>\n",
       "    </tr>\n",
       "    <tr>\n",
       "      <th>6</th>\n",
       "      <td>7</td>\n",
       "      <td>Ida</td>\n",
       "      <td>1880</td>\n",
       "      <td>F</td>\n",
       "      <td>1472</td>\n",
       "    </tr>\n",
       "    <tr>\n",
       "      <th>7</th>\n",
       "      <td>8</td>\n",
       "      <td>Alice</td>\n",
       "      <td>1880</td>\n",
       "      <td>F</td>\n",
       "      <td>1414</td>\n",
       "    </tr>\n",
       "  </tbody>\n",
       "</table>\n",
       "</div>"
      ],
      "text/plain": [
       "   Id       Name  Year Gender  Count\n",
       "0   1       Mary  1880      F   7065\n",
       "1   2       Anna  1880      F   2604\n",
       "2   3       Emma  1880      F   2003\n",
       "3   4  Elizabeth  1880      F   1939\n",
       "4   5     Minnie  1880      F   1746\n",
       "5   6   Margaret  1880      F   1578\n",
       "6   7        Ida  1880      F   1472\n",
       "7   8      Alice  1880      F   1414"
      ]
     },
     "execution_count": 3,
     "metadata": {},
     "output_type": "execute_result"
    }
   ],
   "source": [
    "names_data.iloc[:8]"
   ]
  },
  {
   "cell_type": "code",
   "execution_count": 4,
   "id": "88fd087e",
   "metadata": {},
   "outputs": [
    {
     "data": {
      "text/html": [
       "<div>\n",
       "<style scoped>\n",
       "    .dataframe tbody tr th:only-of-type {\n",
       "        vertical-align: middle;\n",
       "    }\n",
       "\n",
       "    .dataframe tbody tr th {\n",
       "        vertical-align: top;\n",
       "    }\n",
       "\n",
       "    .dataframe thead th {\n",
       "        text-align: right;\n",
       "    }\n",
       "</style>\n",
       "<table border=\"1\" class=\"dataframe\">\n",
       "  <thead>\n",
       "    <tr style=\"text-align: right;\">\n",
       "      <th></th>\n",
       "      <th>Id</th>\n",
       "      <th>Name</th>\n",
       "      <th>Year</th>\n",
       "      <th>Gender</th>\n",
       "      <th>Count</th>\n",
       "    </tr>\n",
       "  </thead>\n",
       "  <tbody>\n",
       "    <tr>\n",
       "      <th>1825425</th>\n",
       "      <td>1825426</td>\n",
       "      <td>Zo</td>\n",
       "      <td>2014</td>\n",
       "      <td>M</td>\n",
       "      <td>5</td>\n",
       "    </tr>\n",
       "    <tr>\n",
       "      <th>1825426</th>\n",
       "      <td>1825427</td>\n",
       "      <td>Zyeir</td>\n",
       "      <td>2014</td>\n",
       "      <td>M</td>\n",
       "      <td>5</td>\n",
       "    </tr>\n",
       "    <tr>\n",
       "      <th>1825427</th>\n",
       "      <td>1825428</td>\n",
       "      <td>Zyel</td>\n",
       "      <td>2014</td>\n",
       "      <td>M</td>\n",
       "      <td>5</td>\n",
       "    </tr>\n",
       "    <tr>\n",
       "      <th>1825428</th>\n",
       "      <td>1825429</td>\n",
       "      <td>Zykeem</td>\n",
       "      <td>2014</td>\n",
       "      <td>M</td>\n",
       "      <td>5</td>\n",
       "    </tr>\n",
       "    <tr>\n",
       "      <th>1825429</th>\n",
       "      <td>1825430</td>\n",
       "      <td>Zymeer</td>\n",
       "      <td>2014</td>\n",
       "      <td>M</td>\n",
       "      <td>5</td>\n",
       "    </tr>\n",
       "    <tr>\n",
       "      <th>1825430</th>\n",
       "      <td>1825431</td>\n",
       "      <td>Zymiere</td>\n",
       "      <td>2014</td>\n",
       "      <td>M</td>\n",
       "      <td>5</td>\n",
       "    </tr>\n",
       "    <tr>\n",
       "      <th>1825431</th>\n",
       "      <td>1825432</td>\n",
       "      <td>Zyran</td>\n",
       "      <td>2014</td>\n",
       "      <td>M</td>\n",
       "      <td>5</td>\n",
       "    </tr>\n",
       "    <tr>\n",
       "      <th>1825432</th>\n",
       "      <td>1825433</td>\n",
       "      <td>Zyrin</td>\n",
       "      <td>2014</td>\n",
       "      <td>M</td>\n",
       "      <td>5</td>\n",
       "    </tr>\n",
       "  </tbody>\n",
       "</table>\n",
       "</div>"
      ],
      "text/plain": [
       "              Id     Name  Year Gender  Count\n",
       "1825425  1825426       Zo  2014      M      5\n",
       "1825426  1825427    Zyeir  2014      M      5\n",
       "1825427  1825428     Zyel  2014      M      5\n",
       "1825428  1825429   Zykeem  2014      M      5\n",
       "1825429  1825430   Zymeer  2014      M      5\n",
       "1825430  1825431  Zymiere  2014      M      5\n",
       "1825431  1825432    Zyran  2014      M      5\n",
       "1825432  1825433    Zyrin  2014      M      5"
      ]
     },
     "execution_count": 4,
     "metadata": {},
     "output_type": "execute_result"
    }
   ],
   "source": [
    "names_data.iloc[-8:]"
   ]
  },
  {
   "cell_type": "code",
   "execution_count": 4,
   "id": "bd3ba1c1",
   "metadata": {},
   "outputs": [
    {
     "data": {
      "text/plain": [
       "Index(['Id', 'Name', 'Year', 'Gender', 'Count'], dtype='object')"
      ]
     },
     "execution_count": 4,
     "metadata": {},
     "output_type": "execute_result"
    }
   ],
   "source": [
    "names_data.columns"
   ]
  },
  {
   "cell_type": "code",
   "execution_count": 6,
   "id": "24e2ead6",
   "metadata": {},
   "outputs": [
    {
     "name": "stdout",
     "output_type": "stream",
     "text": [
      "Кількість унікальних імен у наборі даних: 93889\n"
     ]
    }
   ],
   "source": [
    "distinct_name_count = names_data['Name'].nunique()\n",
    "\n",
    "print(f\"Кількість унікальних імен у наборі даних: {distinct_name_count}\")"
   ]
  },
  {
   "cell_type": "code",
   "execution_count": 9,
   "id": "2bdbe74c",
   "metadata": {},
   "outputs": [
    {
     "data": {
      "text/plain": [
       "Year\n",
       "1880     1889\n",
       "1881     1830\n",
       "1882     2012\n",
       "1883     1962\n",
       "1884     2158\n",
       "        ...  \n",
       "2010    31603\n",
       "2011    31418\n",
       "2012    31236\n",
       "2013    30774\n",
       "2014    30579\n",
       "Name: Name, Length: 135, dtype: int64"
      ]
     },
     "execution_count": 9,
     "metadata": {},
     "output_type": "execute_result"
    }
   ],
   "source": [
    "yearly_unique_names = names_data.groupby('Year')['Name'].nunique()\n",
    "\n",
    "yearly_unique_names"
   ]
  },
  {
   "cell_type": "code",
   "execution_count": 10,
   "id": "42a49638",
   "metadata": {},
   "outputs": [
    {
     "name": "stdout",
     "output_type": "stream",
     "text": [
      "Рік із найбільшою кількістю унікальних імен: 2008, кількість імен: 32488\n"
     ]
    }
   ],
   "source": [
    "yearly_unique_names = names_data.groupby('Year')['Name'].nunique()\n",
    "\n",
    "year_with_max_unique_names = yearly_unique_names.idxmax()\n",
    "max_unique_names = yearly_unique_names.max()\n",
    "\n",
    "print(f\"Рік із найбільшою кількістю унікальних імен: {year_with_max_unique_names}, кількість імен: {max_unique_names}\")"
   ]
  },
  {
   "cell_type": "code",
   "execution_count": 11,
   "id": "c1266b22",
   "metadata": {},
   "outputs": [
    {
     "name": "stdout",
     "output_type": "stream",
     "text": [
      "Найпопулярніше ім'я у 2008 році: 'Jacob', кількість: '22568'\n"
     ]
    }
   ],
   "source": [
    "year_of_interest = 2008\n",
    "\n",
    "data_2008 = names_data[names_data['Year'] == year_of_interest]\n",
    "\n",
    "top_name = data_2008.loc[data_2008['Count'].idxmax(), 'Name']\n",
    "top_name_count = data_2008['Count'].max()\n",
    "\n",
    "print(f\"Найпопулярніше ім'я у {year_of_interest} році: '{top_name}', кількість: '{top_name_count}'\")"
   ]
  },
  {
   "cell_type": "code",
   "execution_count": 12,
   "id": "0f5de488",
   "metadata": {},
   "outputs": [
    {
     "name": "stdout",
     "output_type": "stream",
     "text": [
      "Рік: 2004\n",
      "Gender: F\n",
      "Id: 1455557\n",
      "Count: 171\n"
     ]
    }
   ],
   "source": [
    "jacob_data = names_data[(names_data[\"Name\"] == \"Jacob\") & (names_data[\"Gender\"] == \"F\")]\n",
    "\n",
    "if not jacob_data.empty:\n",
    "    max_row = jacob_data[jacob_data[\"Count\"] == jacob_data[\"Count\"].max()]\n",
    "    \n",
    "    year = max_row[\"Year\"].values[0]\n",
    "    gender = max_row[\"Gender\"].values[0]\n",
    "    id_ = max_row[\"Id\"].values[0]\n",
    "    count = max_row[\"Count\"].values[0]\n",
    "\n",
    "    print(f\"Рік: {year}\")\n",
    "    print(f\"Gender: {gender}\")\n",
    "    print(f\"Id: {id_}\")\n",
    "    print(f\"Count: {count}\")\n",
    "else:\n",
    "    print(\"Ім’я 'Jacob' серед жіночих імен не зустрічається у файлі.\")"
   ]
  },
  {
   "cell_type": "code",
   "execution_count": 13,
   "id": "26d585d8",
   "metadata": {},
   "outputs": [
    {
     "name": "stdout",
     "output_type": "stream",
     "text": [
      "Рік із найбільшою кількістю гендерно нейтральних імен: 2008\n",
      "Кількість таких імен: 2557\n"
     ]
    }
   ],
   "source": [
    "neutral_names = names_data.groupby([\"Year\", \"Name\"])[\"Gender\"].nunique().reset_index()\n",
    "\n",
    "neutral_names = neutral_names[neutral_names[\"Gender\"] == 2]\n",
    "\n",
    "neutral_counts = neutral_names.groupby(\"Year\")[\"Name\"].count().reset_index()\n",
    "neutral_counts.columns = [\"Year\", \"NeutralNameCount\"]\n",
    "\n",
    "max_neutral_year = neutral_counts[neutral_counts[\"NeutralNameCount\"] == neutral_counts[\"NeutralNameCount\"].max()]\n",
    "\n",
    "if not max_neutral_year.empty:\n",
    "    year = max_neutral_year[\"Year\"].values[0]\n",
    "    count = max_neutral_year[\"NeutralNameCount\"].values[0]\n",
    "    print(f\"Рік із найбільшою кількістю гендерно нейтральних імен: {year}\")\n",
    "    print(f\"Кількість таких імен: {count}\")\n",
    "else:\n",
    "    print(\"Гендерно нейтральні імена у файлі не знайдені.\")"
   ]
  },
  {
   "cell_type": "code",
   "execution_count": 14,
   "id": "ead30846",
   "metadata": {},
   "outputs": [
    {
     "name": "stdout",
     "output_type": "stream",
     "text": [
      "     Year  TotalBirths\n",
      "0    1880       201484\n",
      "1    1881       192699\n",
      "2    1882       221538\n",
      "3    1883       216950\n",
      "4    1884       243467\n",
      "..    ...          ...\n",
      "130  2010      3686589\n",
      "131  2011      3646730\n",
      "132  2012      3643336\n",
      "133  2013      3626802\n",
      "134  2014      3670151\n",
      "\n",
      "[135 rows x 2 columns]\n"
     ]
    }
   ],
   "source": [
    "births_per_year = names_data.groupby(\"Year\")[\"Count\"].sum().reset_index()\n",
    "\n",
    "births_per_year.columns = [\"Year\", \"TotalBirths\"]\n",
    "\n",
    "print(births_per_year)"
   ]
  },
  {
   "cell_type": "code",
   "execution_count": 15,
   "id": "e8bba07e",
   "metadata": {},
   "outputs": [
    {
     "name": "stdout",
     "output_type": "stream",
     "text": [
      "Рік із найбільшою кількістю народжень: 1957\n",
      "Кількість народжень у цьому році: 4200026\n"
     ]
    }
   ],
   "source": [
    "births_per_year = names_data.groupby(\"Year\")[\"Count\"].sum().reset_index()\n",
    "\n",
    "max_births_year = births_per_year[births_per_year[\"Count\"] == births_per_year[\"Count\"].max()]\n",
    "\n",
    "if not max_births_year.empty:\n",
    "    year = max_births_year[\"Year\"].values[0]\n",
    "    total_births = max_births_year[\"Count\"].values[0]\n",
    "    print(f\"Рік із найбільшою кількістю народжень: {year}\")\n",
    "    print(f\"Кількість народжень у цьому році: {total_births}\")\n",
    "else:\n",
    "    print(\"Даних про народження немає у файлі.\")"
   ]
  },
  {
   "cell_type": "code",
   "execution_count": 16,
   "id": "9b513668",
   "metadata": {},
   "outputs": [
    {
     "data": {
      "text/html": [
       "<div>\n",
       "<style scoped>\n",
       "    .dataframe tbody tr th:only-of-type {\n",
       "        vertical-align: middle;\n",
       "    }\n",
       "\n",
       "    .dataframe tbody tr th {\n",
       "        vertical-align: top;\n",
       "    }\n",
       "\n",
       "    .dataframe thead th {\n",
       "        text-align: right;\n",
       "    }\n",
       "</style>\n",
       "<table border=\"1\" class=\"dataframe\">\n",
       "  <thead>\n",
       "    <tr style=\"text-align: right;\">\n",
       "      <th></th>\n",
       "      <th>Year</th>\n",
       "      <th>FemaleBirths</th>\n",
       "      <th>MaleBirths</th>\n",
       "    </tr>\n",
       "  </thead>\n",
       "  <tbody>\n",
       "    <tr>\n",
       "      <th>0</th>\n",
       "      <td>1880</td>\n",
       "      <td>90993</td>\n",
       "      <td>110491</td>\n",
       "    </tr>\n",
       "    <tr>\n",
       "      <th>1</th>\n",
       "      <td>1881</td>\n",
       "      <td>91954</td>\n",
       "      <td>100745</td>\n",
       "    </tr>\n",
       "    <tr>\n",
       "      <th>2</th>\n",
       "      <td>1882</td>\n",
       "      <td>107850</td>\n",
       "      <td>113688</td>\n",
       "    </tr>\n",
       "    <tr>\n",
       "      <th>3</th>\n",
       "      <td>1883</td>\n",
       "      <td>112321</td>\n",
       "      <td>104629</td>\n",
       "    </tr>\n",
       "    <tr>\n",
       "      <th>4</th>\n",
       "      <td>1884</td>\n",
       "      <td>129022</td>\n",
       "      <td>114445</td>\n",
       "    </tr>\n",
       "  </tbody>\n",
       "</table>\n",
       "</div>"
      ],
      "text/plain": [
       "   Year  FemaleBirths  MaleBirths\n",
       "0  1880         90993      110491\n",
       "1  1881         91954      100745\n",
       "2  1882        107850      113688\n",
       "3  1883        112321      104629\n",
       "4  1884        129022      114445"
      ]
     },
     "execution_count": 16,
     "metadata": {},
     "output_type": "execute_result"
    }
   ],
   "source": [
    "births_by_gender = names_data.groupby([\"Year\", \"Gender\"])[\"Count\"].sum().reset_index()\n",
    "births_by_gender_pivot = births_by_gender.pivot(index=\"Year\", columns=\"Gender\", values=\"Count\").reset_index()\n",
    "births_by_gender_pivot.columns = [\"Year\", \"FemaleBirths\", \"MaleBirths\"]\n",
    "births_by_gender_pivot.fillna(0, inplace=True)\n",
    "\n",
    "births_by_gender_pivot.head()"
   ]
  },
  {
   "cell_type": "code",
   "execution_count": 17,
   "id": "51416594",
   "metadata": {},
   "outputs": [
    {
     "name": "stdout",
     "output_type": "stream",
     "text": [
      "Кількість років, коли дівчаток народжувалось більше, ніж хлопчиків: 54\n"
     ]
    }
   ],
   "source": [
    "births_by_gender = names_data.groupby([\"Year\", \"Gender\"])[\"Count\"].sum().reset_index()\n",
    "births_by_gender_pivot = births_by_gender.pivot(index=\"Year\", columns=\"Gender\", values=\"Count\").reset_index()\n",
    "births_by_gender_pivot.columns = [\"Year\", \"FemaleBirths\", \"MaleBirths\"]\n",
    "\n",
    "births_by_gender_pivot.fillna(0, inplace=True)\n",
    "years_with_more_females = births_by_gender_pivot[births_by_gender_pivot[\"FemaleBirths\"] > births_by_gender_pivot[\"MaleBirths\"]]\n",
    "count_years = len(years_with_more_females)\n",
    "\n",
    "print(f\"Кількість років, коли дівчаток народжувалось більше, ніж хлопчиків: {count_years}\")"
   ]
  },
  {
   "cell_type": "code",
   "execution_count": 18,
   "id": "33c6f52a",
   "metadata": {},
   "outputs": [
    {
     "name": "stdout",
     "output_type": "stream",
     "text": [
      "Кількість разів, коли хлопчиків називали Barbara: 4139\n"
     ]
    }
   ],
   "source": [
    "barbara_male_data = names_data[(names_data[\"Name\"] == \"Barbara\") & (names_data[\"Gender\"] == \"M\")]\n",
    "total_barbara_male = barbara_male_data[\"Count\"].sum()\n",
    "\n",
    "print(f\"Кількість разів, коли хлопчиків називали Barbara: {total_barbara_male}\")"
   ]
  },
  {
   "cell_type": "code",
   "execution_count": 19,
   "id": "c7292383",
   "metadata": {},
   "outputs": [
    {
     "name": "stdout",
     "output_type": "stream",
     "text": [
      "Кількість років, протягом яких проводилось спостереження: 135\n"
     ]
    }
   ],
   "source": [
    "unique_years_count = names_data[\"Year\"].nunique()\n",
    "\n",
    "print(f\"Кількість років, протягом яких проводилось спостереження: {unique_years_count}\")"
   ]
  },
  {
   "cell_type": "code",
   "execution_count": 23,
   "id": "2aeba2d9",
   "metadata": {},
   "outputs": [
    {
     "data": {
      "text/plain": [
       "Name\n",
       "James      5129096\n",
       "John       5106590\n",
       "Robert     4816785\n",
       "William    4071368\n",
       "Joseph     2580687\n",
       "Jean        480901\n",
       "Jesse       421406\n",
       "Leslie      376587\n",
       "Francis     312147\n",
       "Lee         291691\n",
       "Jessie      274931\n",
       "Marion      259549\n",
       "Johnnie     149953\n",
       "Sidney      105185\n",
       "Ollie        56482\n",
       "Tommie       51315\n",
       "Name: Count, dtype: int64"
      ]
     },
     "execution_count": 23,
     "metadata": {},
     "output_type": "execute_result"
    }
   ],
   "source": [
    "neutral_names = names_data.groupby(['Year', 'Name'])['Gender'].nunique().reset_index()\n",
    "neutral_names = neutral_names[neutral_names['Gender'] == 2]\n",
    "\n",
    "all_years = set(names_data['Year'].unique())\n",
    "names_by_year = neutral_names.groupby('Name')['Year'].apply(set)\n",
    "consistent_neutral_names = [name for name, years in names_by_year.items() if years == all_years]\n",
    "\n",
    "popular_names = names_data[names_data['Name'].isin(consistent_neutral_names)].groupby('Name')['Count'].sum()\n",
    "popular_names = popular_names.sort_values(ascending=False)\n",
    "\n",
    "popular_names.head(16)"
   ]
  },
  {
   "cell_type": "code",
   "execution_count": 24,
   "id": "b920eb47",
   "metadata": {},
   "outputs": [
    {
     "name": "stdout",
     "output_type": "stream",
     "text": [
      "Найпопулярніше серед непопулярних імен: Adriyana\n",
      "Кількість використань цього імені: 160\n"
     ]
    }
   ],
   "source": [
    "name_counts = names_data.groupby('Name')['Count'].sum()\n",
    "\n",
    "unpopular_names = name_counts[name_counts <= 160]\n",
    "\n",
    "most_popular_of_unpopular = unpopular_names.idxmax()\n",
    "most_popular_of_unpopular_count = unpopular_names.max()\n",
    "\n",
    "print(f\"Найпопулярніше серед непопулярних імен: {most_popular_of_unpopular}\")\n",
    "print(f\"Кількість використань цього імені: {most_popular_of_unpopular_count}\")"
   ]
  },
  {
   "cell_type": "code",
   "execution_count": 28,
   "id": "a27f060a",
   "metadata": {},
   "outputs": [
    {
     "data": {
      "image/png": "[encoded data removed]",
      "text/plain": [
       "<Figure size 2000x1000 with 1 Axes>"
      ]
     },
     "metadata": {},
     "output_type": "display_data"
    }
   ],
   "source": [
    "import pandas as pd\n",
    "import matplotlib.pyplot as plt\n",
    "\n",
    "female_john = names_data[(names_data[\"Name\"] == \"John\") &\n",
    "                         (names_data[\"Gender\"] == \"F\")].groupby(\"Year\")[\"Count\"].sum()\n",
    "\n",
    "male_mary = names_data[(names_data[\"Name\"] == \"Mary\") &\n",
    "                       (names_data[\"Gender\"] == \"M\")].groupby(\"Year\")[\"Count\"].sum()\n",
    "\n",
    "plt.figure(figsize=(20, 10))\n",
    "\n",
    "plt.plot(female_john.index, female_john.values, label=\"F [John]\", color=\"blue\")\n",
    "\n",
    "plt.plot(male_mary.index, male_mary.values, label=\"M [Mary]\", color=\"red\")\n",
    "\n",
    "plt.title(\"Розподіл кількості жіночих імен John та чоловічих імен Mary по роках\")\n",
    "plt.xlabel(\"Рік\")\n",
    "plt.ylabel(\"Кількість народжень\")\n",
    "plt.legend()\n",
    "\n",
    "plt.show()"
   ]
  },
  {
   "cell_type": "code",
   "execution_count": null,
   "id": "4fc628cb",
   "metadata": {},
   "outputs": [],
   "source": []
  }
 ],
 "metadata": {
  "kernelspec": {
   "display_name": "Python 3 (ipykernel)",
   "language": "python",
   "name": "python3"
  },
  "language_info": {
   "codemirror_mode": {
    "name": "ipython",
    "version": 3
   },
   "file_extension": ".py",
   "mimetype": "text/x-python",
   "name": "python",
   "nbconvert_exporter": "python",
   "pygments_lexer": "ipython3",
   "version": "3.11.5"
  }
 },
 "nbformat": 4,
 "nbformat_minor": 5
}
